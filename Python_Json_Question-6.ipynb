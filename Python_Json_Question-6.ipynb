{
 "cells": [
  {
   "cell_type": "code",
   "execution_count": 1,
   "id": "acd8979f",
   "metadata": {},
   "outputs": [],
   "source": [
    "import re, json, requests\n",
    "import pandas as pd\n",
    "import json\n",
    "\n",
    "from urllib.request import urlopen"
   ]
  },
  {
   "cell_type": "code",
   "execution_count": 2,
   "id": "6b6dc9cd",
   "metadata": {},
   "outputs": [
    {
     "name": "stdout",
     "output_type": "stream",
     "text": [
      "{'id': 1371, 'url': 'https://www.tvmaze.com/shows/1371/westworld', 'name': 'Westworld', 'type': 'Scripted', 'language': 'English', 'genres': ['Drama', 'Science-Fiction', 'Western'], 'status': 'Ended', 'runtime': 60, 'averageRuntime': 63, 'premiered': '2016-10-02', 'ended': '2022-08-14', 'officialSite': 'http://www.hbo.com/westworld', 'schedule': {'time': '21:00', 'days': ['Sunday']}, 'rating': {'average': 8.2}, 'weight': 99, 'network': {'id': 8, 'name': 'HBO', 'country': {'name': 'United States', 'code': 'US', 'timezone': 'America/New_York'}, 'officialSite': 'https://www.hbo.com/'}, 'webChannel': None, 'dvdCountry': None, 'externals': {'tvrage': 37537, 'thetvdb': 296762, 'imdb': 'tt0475784'}, 'image': {'medium': 'https://static.tvmaze.com/uploads/images/medium_portrait/445/1113927.jpg', 'original': 'https://static.tvmaze.com/uploads/images/original_untouched/445/1113927.jpg'}, 'summary': '<p><b>Westworld</b> is a dark odyssey about the dawn of artificial consciousness and the evolution of sin. Set at the intersection of the near future and the reimagined past, it explores a world in which every human appetite, no matter how noble or depraved, can be indulged.</p>', 'updated': 1675592943, '_links': {'self': {'href': 'https://api.tvmaze.com/shows/1371'}, 'previousepisode': {'href': 'https://api.tvmaze.com/episodes/2326661'}}, '_embedded': {'episodes': [{'id': 869671, 'url': 'https://www.tvmaze.com/episodes/869671/westworld-1x01-the-original', 'name': 'The Original', 'season': 1, 'number': 1, 'type': 'regular', 'airdate': '2016-10-02', 'airtime': '21:00', 'airstamp': '2016-10-03T01:00:00+00:00', 'runtime': 68, 'rating': {'average': 8}, 'image': {'medium': 'https://static.tvmaze.com/uploads/images/medium_landscape/78/195475.jpg', 'original': 'https://static.tvmaze.com/uploads/images/original_untouched/78/195475.jpg'}, 'summary': \"<p>A woman named Dolores is a free spirit in the Old West... and unaware that she's actually an android, programmed to entertain rich guests seeking to act out their fantasies in an idealized vision of the 1880s. However, the people in charge soon realize that their androids are acting in ways that they didn't anticipate.</p>\", '_links': {'self': {'href': 'https://api.tvmaze.com/episodes/869671'}, 'show': {'href': 'https://api.tvmaze.com/shows/1371'}}}, {'id': 911201, 'url': 'https://www.tvmaze.com/episodes/911201/westworld-1x02-chestnut', 'name': 'Chestnut', 'season': 1, 'number': 2, 'type': 'regular', 'airdate': '2016-10-09', 'airtime': '21:00', 'airstamp': '2016-10-10T01:00:00+00:00', 'runtime': 60, 'rating': {'average': 7.7}, 'image': {'medium': 'https://static.tvmaze.com/uploads/images/medium_landscape/78/195436.jpg', 'original': 'https://static.tvmaze.com/uploads/images/original_untouched/78/195436.jpg'}, 'summary': '<p>Bernard suspects that someone is sabotaging the hosts. Meanwhile, the Man continues his search for the deeper game, and Maeve finds herself in a world of hurt... literally.</p>', '_links': {'self': {'href': 'https://api.tvmaze.com/episodes/911201'}, 'show': {'href': 'https://api.tvmaze.com/shows/1371'}}}, {'id': 911204, 'url': 'https://www.tvmaze.com/episodes/911204/westworld-1x03-the-stray', 'name': 'The Stray', 'season': 1, 'number': 3, 'type': 'regular', 'airdate': '2016-10-16', 'airtime': '21:00', 'airstamp': '2016-10-17T01:00:00+00:00', 'runtime': 60, 'rating': {'average': 7.6}, 'image': {'medium': 'https://static.tvmaze.com/uploads/images/medium_landscape/79/198183.jpg', 'original': 'https://static.tvmaze.com/uploads/images/original_untouched/79/198183.jpg'}, 'summary': \"<p>Bernard continues to investigate Dolores' supposed malfunction, and realizes that he has something unexpected on his hands. Meanwhile, Robert talks about the early days of the park, and Teddy receives a new role and narrative.</p>\", '_links': {'self': {'href': 'https://api.tvmaze.com/episodes/911204'}, 'show': {'href': 'https://api.tvmaze.com/shows/1371'}}}, {'id': 911205, 'url': 'https://www.tvmaze.com/episodes/911205/westworld-1x04-dissonance-theory', 'name': 'Dissonance Theory', 'season': 1, 'number': 4, 'type': 'regular', 'airdate': '2016-10-23', 'airtime': '21:00', 'airstamp': '2016-10-24T01:00:00+00:00', 'runtime': 60, 'rating': {'average': 7.9}, 'image': {'medium': 'https://static.tvmaze.com/uploads/images/medium_landscape/80/201367.jpg', 'original': 'https://static.tvmaze.com/uploads/images/original_untouched/80/201367.jpg'}, 'summary': '<p>While Dolores joins William and Logan on their adventure, the Man in Black continues his search for the entrance to the Maze and meets Armistice. Meanwhile, Robert reveals some of his true power to Theresa and advises her to stay out of his way.</p>', '_links': {'self': {'href': 'https://api.tvmaze.com/episodes/911205'}, 'show': {'href': 'https://api.tvmaze.com/shows/1371'}}}, {'id': 927174, 'url': 'https://www.tvmaze.com/episodes/927174/westworld-1x05-contrapasso', 'name': 'Contrapasso', 'season': 1, 'number': 5, 'type': 'regular', 'airdate': '2016-10-30', 'airtime': '21:00', 'airstamp': '2016-10-31T01:00:00+00:00', 'runtime': 60, 'rating': {'average': 8}, 'image': {'medium': 'https://static.tvmaze.com/uploads/images/medium_landscape/81/204265.jpg', 'original': 'https://static.tvmaze.com/uploads/images/original_untouched/81/204265.jpg'}, 'summary': \"<p>Dolores takes the first step on her path of discovery by deciding to write a new story for herself... where she isn't the damsel. Meanwhile, Elise discovers the Woodcutter's secret, and Robert pays the Man a visit.</p>\", '_links': {'self': {'href': 'https://api.tvmaze.com/episodes/927174'}, 'show': {'href': 'https://api.tvmaze.com/shows/1371'}}}, {'id': 932057, 'url': 'https://www.tvmaze.com/episodes/932057/westworld-1x06-the-adversary', 'name': 'The Adversary', 'season': 1, 'number': 6, 'type': 'regular', 'airdate': '2016-11-06', 'airtime': '21:00', 'airstamp': '2016-11-07T02:00:00+00:00', 'runtime': 60, 'rating': {'average': 8}, 'image': {'medium': 'https://static.tvmaze.com/uploads/images/medium_landscape/82/207324.jpg', 'original': 'https://static.tvmaze.com/uploads/images/original_untouched/82/207324.jpg'}, 'summary': '<p>While Maeve convinces Felix to show her \"upstairs,\" Teddy and the Man close in on the maze. Meanwhile, Bernard and Elsie close in on the identity of the person who is stealing secrets from the park, while Lee meets with a Delos executive director.</p>', '_links': {'self': {'href': 'https://api.tvmaze.com/episodes/932057'}, 'show': {'href': 'https://api.tvmaze.com/shows/1371'}}}, {'id': 938404, 'url': 'https://www.tvmaze.com/episodes/938404/westworld-1x07-trompe-loeil', 'name': \"Trompe L'Oeil\", 'season': 1, 'number': 7, 'type': 'regular', 'airdate': '2016-11-13', 'airtime': '21:00', 'airstamp': '2016-11-14T02:00:00+00:00', 'runtime': 60, 'rating': {'average': 8.6}, 'image': {'medium': 'https://static.tvmaze.com/uploads/images/medium_landscape/83/209400.jpg', 'original': 'https://static.tvmaze.com/uploads/images/original_untouched/83/209400.jpg'}, 'summary': '<p>While William and Dolores travel to the unclaimed territories, Charlotte and Theresa make plans to force Robert out of the park using Clementine. Meanwhile, Maeve continues her plans to escape Westworld.</p>', '_links': {'self': {'href': 'https://api.tvmaze.com/episodes/938404'}, 'show': {'href': 'https://api.tvmaze.com/shows/1371'}}}, {'id': 943065, 'url': 'https://www.tvmaze.com/episodes/943065/westworld-1x08-trace-decay', 'name': 'Trace Decay', 'season': 1, 'number': 8, 'type': 'regular', 'airdate': '2016-11-20', 'airtime': '21:00', 'airstamp': '2016-11-21T02:00:00+00:00', 'runtime': 60, 'rating': {'average': 7.9}, 'image': {'medium': 'https://static.tvmaze.com/uploads/images/medium_landscape/84/211554.jpg', 'original': 'https://static.tvmaze.com/uploads/images/original_untouched/84/211554.jpg'}, 'summary': \"<p>Bernard tries to cope with what he did under Robert's orders. Meanwhile, William and Dolores find a town, and Maeve remembers more of her past. Meanwhile, the Man reveals his past to Teddy.</p>\", '_links': {'self': {'href': 'https://api.tvmaze.com/episodes/943065'}, 'show': {'href': 'https://api.tvmaze.com/shows/1371'}}}, {'id': 943066, 'url': 'https://www.tvmaze.com/episodes/943066/westworld-1x09-the-well-tempered-clavier', 'name': 'The Well-Tempered Clavier', 'season': 1, 'number': 9, 'type': 'regular', 'airdate': '2016-11-27', 'airtime': '21:00', 'airstamp': '2016-11-28T02:00:00+00:00', 'runtime': 60, 'rating': {'average': 8.5}, 'image': {'medium': 'https://static.tvmaze.com/uploads/images/medium_landscape/85/213932.jpg', 'original': 'https://static.tvmaze.com/uploads/images/original_untouched/85/213932.jpg'}, 'summary': '<p>Bernard forces Robert to take him back into his own memories, while the Man meets with Charlotte. Meanwhile, Dolores escapes the Confederado camp and William gives Logan new orders.</p>', '_links': {'self': {'href': 'https://api.tvmaze.com/episodes/943066'}, 'show': {'href': 'https://api.tvmaze.com/shows/1371'}}}, {'id': 943067, 'url': 'https://www.tvmaze.com/episodes/943067/westworld-1x10-the-bicameral-mind', 'name': 'The Bicameral Mind', 'season': 1, 'number': 10, 'type': 'regular', 'airdate': '2016-12-04', 'airtime': '21:00', 'airstamp': '2016-12-05T02:00:00+00:00', 'runtime': 90, 'rating': {'average': 8.7}, 'image': {'medium': 'https://static.tvmaze.com/uploads/images/medium_landscape/86/216453.jpg', 'original': 'https://static.tvmaze.com/uploads/images/original_untouched/86/216453.jpg'}, 'summary': \"<p>Delores finds out the truth about William's fate. Meanwhile, Maeve organizes an escape plan, only to discover that someone else is pulling the strings. And Robert plays the final piece in his grand narrative.</p>\", '_links': {'self': {'href': 'https://api.tvmaze.com/episodes/943067'}, 'show': {'href': 'https://api.tvmaze.com/shows/1371'}}}, {'id': 1214222, 'url': 'https://www.tvmaze.com/episodes/1214222/westworld-2x01-journey-into-night', 'name': 'Journey Into Night', 'season': 2, 'number': 1, 'type': 'regular', 'airdate': '2018-04-22', 'airtime': '21:00', 'airstamp': '2018-04-23T01:00:00+00:00', 'runtime': 74, 'rating': {'average': 7.8}, 'image': {'medium': 'https://static.tvmaze.com/uploads/images/medium_landscape/152/381118.jpg', 'original': 'https://static.tvmaze.com/uploads/images/original_untouched/152/381118.jpg'}, 'summary': '<p>In the aftermath of the host rebellion, the rescue team finds Bernard and the new Head of Operations asks for his help. Meanwhile, Delores promises to show Teddy the truth, and Maeve convinces Lee and Hector to help her find her daughter.</p>', '_links': {'self': {'href': 'https://api.tvmaze.com/episodes/1214222'}, 'show': {'href': 'https://api.tvmaze.com/shows/1371'}}}, {'id': 1440915, 'url': 'https://www.tvmaze.com/episodes/1440915/westworld-2x02-reunion', 'name': 'Reunion', 'season': 2, 'number': 2, 'type': 'regular', 'airdate': '2018-04-29', 'airtime': '21:00', 'airstamp': '2018-04-30T01:00:00+00:00', 'runtime': 60, 'rating': {'average': 7.7}, 'image': {'medium': 'https://static.tvmaze.com/uploads/images/medium_landscape/153/382957.jpg', 'original': 'https://static.tvmaze.com/uploads/images/original_untouched/153/382957.jpg'}, 'summary': '<p>Dolores looks for allies sympathetic to her cause and shows Teddy the truth of his existence. In the past, Dolores gets her first taste of the outside world and William shows her a weapon of mass destruction.</p>', '_links': {'self': {'href': 'https://api.tvmaze.com/episodes/1440915'}, 'show': {'href': 'https://api.tvmaze.com/shows/1371'}}}, {'id': 1440916, 'url': 'https://www.tvmaze.com/episodes/1440916/westworld-2x03-virtu-e-fortuna', 'name': 'Virtù e Fortuna', 'season': 2, 'number': 3, 'type': 'regular', 'airdate': '2018-05-06', 'airtime': '21:00', 'airstamp': '2018-05-07T01:00:00+00:00', 'runtime': 60, 'rating': {'average': 7.7}, 'image': {'medium': 'https://static.tvmaze.com/uploads/images/medium_landscape/154/386069.jpg', 'original': 'https://static.tvmaze.com/uploads/images/original_untouched/154/386069.jpg'}, 'summary': '<p>While Delores makes a deal with the Confederados, Maeve and her group find Felix and Sylvester. Meanwhile, a new Guest comes to Westworld, and Bernard has a meeting of minds with Peter.</p>', '_links': {'self': {'href': 'https://api.tvmaze.com/episodes/1440916'}, 'show': {'href': 'https://api.tvmaze.com/shows/1371'}}}, {'id': 1440917, 'url': 'https://www.tvmaze.com/episodes/1440917/westworld-2x04-the-riddle-of-the-sphinx', 'name': 'The Riddle of the Sphinx', 'season': 2, 'number': 4, 'type': 'regular', 'airdate': '2018-05-13', 'airtime': '21:00', 'airstamp': '2018-05-14T01:00:00+00:00', 'runtime': 71, 'rating': {'average': 8}, 'image': {'medium': 'https://static.tvmaze.com/uploads/images/medium_landscape/155/387630.jpg', 'original': 'https://static.tvmaze.com/uploads/images/original_untouched/155/387630.jpg'}, 'summary': \"<p>William pays his recuperating father-in-law several visits. Meanwhile, the Man continues to play Robert's game, and Bernard remembers some of his missing time.</p>\", '_links': {'self': {'href': 'https://api.tvmaze.com/episodes/1440917'}, 'show': {'href': 'https://api.tvmaze.com/shows/1371'}}}, {'id': 1446362, 'url': 'https://www.tvmaze.com/episodes/1446362/westworld-2x05-akane-no-mai', 'name': 'Akane No Mai', 'season': 2, 'number': 5, 'type': 'regular', 'airdate': '2018-05-20', 'airtime': '21:00', 'airstamp': '2018-05-21T01:00:00+00:00', 'runtime': 60, 'rating': {'average': 7.6}, 'image': {'medium': 'https://static.tvmaze.com/uploads/images/medium_landscape/155/389365.jpg', 'original': 'https://static.tvmaze.com/uploads/images/original_untouched/155/389365.jpg'}, 'summary': \"<p>While Maeve and her people explore Shogun World, Delores realizes that the Teddy she knows can't be a part of the new world coming.</p>\", '_links': {'self': {'href': 'https://api.tvmaze.com/episodes/1446362'}, 'show': {'href': 'https://api.tvmaze.com/shows/1371'}}}, {'id': 1453278, 'url': 'https://www.tvmaze.com/episodes/1453278/westworld-2x06-phase-space', 'name': 'Phase Space', 'season': 2, 'number': 6, 'type': 'regular', 'airdate': '2018-05-27', 'airtime': '21:00', 'airstamp': '2018-05-28T01:00:00+00:00', 'runtime': 60, 'rating': {'average': 7.7}, 'image': {'medium': 'https://static.tvmaze.com/uploads/images/medium_landscape/156/390990.jpg', 'original': 'https://static.tvmaze.com/uploads/images/original_untouched/156/390990.jpg'}, 'summary': '<p>Maeve finds her daughter, Delores finds the \"real\" Teddy, Grace finds her father, and Charlotte and Stubbs find Peter.</p>', '_links': {'self': {'href': 'https://api.tvmaze.com/episodes/1453278'}, 'show': {'href': 'https://api.tvmaze.com/shows/1371'}}}, {'id': 1459961, 'url': 'https://www.tvmaze.com/episodes/1459961/westworld-2x07-les-ecorches', 'name': 'Les Écorchés', 'season': 2, 'number': 7, 'type': 'regular', 'airdate': '2018-06-03', 'airtime': '21:00', 'airstamp': '2018-06-04T01:00:00+00:00', 'runtime': 60, 'rating': {'average': 7.9}, 'image': {'medium': 'https://static.tvmaze.com/uploads/images/medium_landscape/156/392143.jpg', 'original': 'https://static.tvmaze.com/uploads/images/original_untouched/156/392143.jpg'}, 'summary': \"<p>Charlotte and Bernard review Bernard's memories to discover what happened to the missing control unit. Meanwhile, Robert has a chat with Bernard, and Maeve confronts her former tormentor.</p>\", '_links': {'self': {'href': 'https://api.tvmaze.com/episodes/1459961'}, 'show': {'href': 'https://api.tvmaze.com/shows/1371'}}}, {'id': 1459788, 'url': 'https://www.tvmaze.com/episodes/1459788/westworld-2x08-kiksuya', 'name': 'Kiksuya', 'season': 2, 'number': 8, 'type': 'regular', 'airdate': '2018-06-10', 'airtime': '21:00', 'airstamp': '2018-06-11T01:00:00+00:00', 'runtime': 60, 'rating': {'average': 8.7}, 'image': {'medium': 'https://static.tvmaze.com/uploads/images/medium_landscape/157/393811.jpg', 'original': 'https://static.tvmaze.com/uploads/images/original_untouched/157/393811.jpg'}, 'summary': \"<p>Another of Westworld's Host revolutionaries is revealed. Meanwhile, Emily finds the Man and convinces the Ghost Nation to hand him over to her to ensure his suffering.</p>\", '_links': {'self': {'href': 'https://api.tvmaze.com/episodes/1459788'}, 'show': {'href': 'https://api.tvmaze.com/shows/1371'}}}, {'id': 1459789, 'url': 'https://www.tvmaze.com/episodes/1459789/westworld-2x09-vanishing-point', 'name': 'Vanishing Point', 'season': 2, 'number': 9, 'type': 'regular', 'airdate': '2018-06-17', 'airtime': '21:00', 'airstamp': '2018-06-18T01:00:00+00:00', 'runtime': 60, 'rating': {'average': 8.4}, 'image': {'medium': 'https://static.tvmaze.com/uploads/images/medium_landscape/158/395754.jpg', 'original': 'https://static.tvmaze.com/uploads/images/original_untouched/158/395754.jpg'}, 'summary': \"<p>The Man learns that his grip on reality isn't what he thought, as he considers how his wife died. Meanwhile, Dolores continues her trek across the park to the Valley Beyond, and Bernard receives another visit from Robert.</p>\", '_links': {'self': {'href': 'https://api.tvmaze.com/episodes/1459789'}, 'show': {'href': 'https://api.tvmaze.com/shows/1371'}}}, {'id': 1459790, 'url': 'https://www.tvmaze.com/episodes/1459790/westworld-2x10-the-passenger', 'name': 'The Passenger', 'season': 2, 'number': 10, 'type': 'regular', 'airdate': '2018-06-24', 'airtime': '21:00', 'airstamp': '2018-06-25T01:00:00+00:00', 'runtime': 90, 'rating': {'average': 8.5}, 'image': {'medium': 'https://static.tvmaze.com/uploads/images/medium_landscape/158/397018.jpg', 'original': 'https://static.tvmaze.com/uploads/images/original_untouched/158/397018.jpg'}, 'summary': '<p>The Man faces a personal reckoning, while Akecheta and the others find the door. Meanwhile, Bernard meets with Robert one last time after choosing how to deal with Dolores.</p>', '_links': {'self': {'href': 'https://api.tvmaze.com/episodes/1459790'}, 'show': {'href': 'https://api.tvmaze.com/shows/1371'}}}, {'id': 1789333, 'url': 'https://www.tvmaze.com/episodes/1789333/westworld-3x01-parce-domine', 'name': 'Parce Domine', 'season': 3, 'number': 1, 'type': 'regular', 'airdate': '2020-03-15', 'airtime': '21:00', 'airstamp': '2020-03-16T01:00:00+00:00', 'runtime': 70, 'rating': {'average': 8}, 'image': {'medium': 'https://static.tvmaze.com/uploads/images/medium_landscape/246/615760.jpg', 'original': 'https://static.tvmaze.com/uploads/images/original_untouched/246/615760.jpg'}, 'summary': \"<p>If you're stuck in a loop, try walking in a straight line.</p>\", '_links': {'self': {'href': 'https://api.tvmaze.com/episodes/1789333'}, 'show': {'href': 'https://api.tvmaze.com/shows/1371'}}}, {'id': 1800146, 'url': 'https://www.tvmaze.com/episodes/1800146/westworld-3x02-the-winter-line', 'name': 'The Winter Line', 'season': 3, 'number': 2, 'type': 'regular', 'airdate': '2020-03-22', 'airtime': '21:00', 'airstamp': '2020-03-23T01:00:00+00:00', 'runtime': 60, 'rating': {'average': 7.8}, 'image': {'medium': 'https://static.tvmaze.com/uploads/images/medium_landscape/247/619379.jpg', 'original': 'https://static.tvmaze.com/uploads/images/original_untouched/247/619379.jpg'}, 'summary': '<p>People put up a lot of walls. Bring a sledgehammer to your life.</p>', '_links': {'self': {'href': 'https://api.tvmaze.com/episodes/1800146'}, 'show': {'href': 'https://api.tvmaze.com/shows/1371'}}}, {'id': 1800147, 'url': 'https://www.tvmaze.com/episodes/1800147/westworld-3x03-the-absence-of-field', 'name': 'The Absence of Field', 'season': 3, 'number': 3, 'type': 'regular', 'airdate': '2020-03-29', 'airtime': '21:00', 'airstamp': '2020-03-30T01:00:00+00:00', 'runtime': 60, 'rating': {'average': 7.8}, 'image': {'medium': 'https://static.tvmaze.com/uploads/images/medium_landscape/247/619381.jpg', 'original': 'https://static.tvmaze.com/uploads/images/original_untouched/247/619381.jpg'}, 'summary': \"<p>If you don't like what you see in the mirror, don't blame the mirror.</p>\", '_links': {'self': {'href': 'https://api.tvmaze.com/episodes/1800147'}, 'show': {'href': 'https://api.tvmaze.com/shows/1371'}}}, {'id': 1800148, 'url': 'https://www.tvmaze.com/episodes/1800148/westworld-3x04-the-mother-of-exiles', 'name': 'The Mother of Exiles', 'season': 3, 'number': 4, 'type': 'regular', 'airdate': '2020-04-05', 'airtime': '21:00', 'airstamp': '2020-04-06T01:00:00+00:00', 'runtime': 70, 'rating': {'average': 8}, 'image': {'medium': 'https://static.tvmaze.com/uploads/images/medium_landscape/249/623071.jpg', 'original': 'https://static.tvmaze.com/uploads/images/original_untouched/249/623071.jpg'}, 'summary': \"<p>The truth doesn't always set you free.</p>\", '_links': {'self': {'href': 'https://api.tvmaze.com/episodes/1800148'}, 'show': {'href': 'https://api.tvmaze.com/shows/1371'}}}, {'id': 1800149, 'url': 'https://www.tvmaze.com/episodes/1800149/westworld-3x05-genre', 'name': 'Genre', 'season': 3, 'number': 5, 'type': 'regular', 'airdate': '2020-04-12', 'airtime': '21:00', 'airstamp': '2020-04-13T01:00:00+00:00', 'runtime': 60, 'rating': {'average': 7.9}, 'image': {'medium': 'https://static.tvmaze.com/uploads/images/medium_landscape/251/629355.jpg', 'original': 'https://static.tvmaze.com/uploads/images/original_untouched/251/629355.jpg'}, 'summary': '<p>Just say no.</p>', '_links': {'self': {'href': 'https://api.tvmaze.com/episodes/1800149'}, 'show': {'href': 'https://api.tvmaze.com/shows/1371'}}}, {'id': 1829375, 'url': 'https://www.tvmaze.com/episodes/1829375/westworld-3x06-decoherence', 'name': 'Decoherence', 'season': 3, 'number': 6, 'type': 'regular', 'airdate': '2020-04-19', 'airtime': '21:00', 'airstamp': '2020-04-20T01:00:00+00:00', 'runtime': 60, 'rating': {'average': 7.5}, 'image': {'medium': 'https://static.tvmaze.com/uploads/images/medium_landscape/252/632212.jpg', 'original': 'https://static.tvmaze.com/uploads/images/original_untouched/252/632212.jpg'}, 'summary': '<p>Do a lot of people tell you that you need therapy?</p>', '_links': {'self': {'href': 'https://api.tvmaze.com/episodes/1829375'}, 'show': {'href': 'https://api.tvmaze.com/shows/1371'}}}, {'id': 1800151, 'url': 'https://www.tvmaze.com/episodes/1800151/westworld-3x07-passed-pawn', 'name': 'Passed Pawn', 'season': 3, 'number': 7, 'type': 'regular', 'airdate': '2020-04-26', 'airtime': '21:00', 'airstamp': '2020-04-27T01:00:00+00:00', 'runtime': 60, 'rating': {'average': 7.5}, 'image': {'medium': 'https://static.tvmaze.com/uploads/images/medium_landscape/254/635599.jpg', 'original': 'https://static.tvmaze.com/uploads/images/original_untouched/254/635599.jpg'}, 'summary': \"<p>A real friend is one who walks in when the rest of the world walks out. Caleb gets an insight on the true nature of his past; Dolores seeks out Rehoboam's predecessor, while Maeve tracks her down; Bernard, Stubbs, and William escape from all the chaos.\\xa0</p>\", '_links': {'self': {'href': 'https://api.tvmaze.com/episodes/1800151'}, 'show': {'href': 'https://api.tvmaze.com/shows/1371'}}}, {'id': 1800152, 'url': 'https://www.tvmaze.com/episodes/1800152/westworld-3x08-crisis-theory', 'name': 'Crisis Theory', 'season': 3, 'number': 8, 'type': 'regular', 'airdate': '2020-05-03', 'airtime': '21:00', 'airstamp': '2020-05-04T01:00:00+00:00', 'runtime': 75, 'rating': {'average': 7.7}, 'image': {'medium': 'https://static.tvmaze.com/uploads/images/medium_landscape/254/635189.jpg', 'original': 'https://static.tvmaze.com/uploads/images/original_untouched/254/635189.jpg'}, 'summary': \"<p>Time to face the music. Dolores' true intentions are revealed; Bernard confronts a ghost from his past; Maeve is conflicted; Serac's voice is dominant; Caleb's role is revealed; and William faces an unexpected villain.\\xa0<br />\\xa0</p>\", '_links': {'self': {'href': 'https://api.tvmaze.com/episodes/1800152'}, 'show': {'href': 'https://api.tvmaze.com/shows/1371'}}}, {'id': 2326389, 'url': 'https://www.tvmaze.com/episodes/2326389/westworld-4x01-the-auguries', 'name': 'The Auguries', 'season': 4, 'number': 1, 'type': 'regular', 'airdate': '2022-06-26', 'airtime': '21:00', 'airstamp': '2022-06-27T01:00:00+00:00', 'runtime': 55, 'rating': {'average': 7.1}, 'image': {'medium': 'https://static.tvmaze.com/uploads/images/medium_landscape/414/1035413.jpg', 'original': 'https://static.tvmaze.com/uploads/images/original_untouched/414/1035413.jpg'}, 'summary': \"<p>Hello again. Don't worry about a thing. It's all in your head.</p>\", '_links': {'self': {'href': 'https://api.tvmaze.com/episodes/2326389'}, 'show': {'href': 'https://api.tvmaze.com/shows/1371'}}}, {'id': 2326655, 'url': 'https://www.tvmaze.com/episodes/2326655/westworld-4x02-well-enough-alone', 'name': 'Well Enough Alone', 'season': 4, 'number': 2, 'type': 'regular', 'airdate': '2022-07-03', 'airtime': '21:00', 'airstamp': '2022-07-04T01:00:00+00:00', 'runtime': 55, 'rating': {'average': 7.4}, 'image': {'medium': 'https://static.tvmaze.com/uploads/images/medium_landscape/414/1036909.jpg', 'original': 'https://static.tvmaze.com/uploads/images/original_untouched/414/1036909.jpg'}, 'summary': '<p>I heard a fly buzz when I died.</p>', '_links': {'self': {'href': 'https://api.tvmaze.com/episodes/2326655'}, 'show': {'href': 'https://api.tvmaze.com/shows/1371'}}}, {'id': 2326656, 'url': 'https://www.tvmaze.com/episodes/2326656/westworld-4x03-annees-folles', 'name': 'Années Folles', 'season': 4, 'number': 3, 'type': 'regular', 'airdate': '2022-07-10', 'airtime': '21:00', 'airstamp': '2022-07-11T01:00:00+00:00', 'runtime': 55, 'rating': {'average': 7.6}, 'image': {'medium': 'https://static.tvmaze.com/uploads/images/medium_landscape/415/1038520.jpg', 'original': 'https://static.tvmaze.com/uploads/images/original_untouched/415/1038520.jpg'}, 'summary': '<p>You can never go back again. But if you do, bring a shovel.</p>', '_links': {'self': {'href': 'https://api.tvmaze.com/episodes/2326656'}, 'show': {'href': 'https://api.tvmaze.com/shows/1371'}}}, {'id': 2326657, 'url': 'https://www.tvmaze.com/episodes/2326657/westworld-4x04-generation-loss', 'name': 'Generation Loss', 'season': 4, 'number': 4, 'type': 'regular', 'airdate': '2022-07-17', 'airtime': '21:00', 'airstamp': '2022-07-18T01:00:00+00:00', 'runtime': 51, 'rating': {'average': 7.7}, 'image': {'medium': 'https://static.tvmaze.com/uploads/images/medium_landscape/415/1039531.jpg', 'original': 'https://static.tvmaze.com/uploads/images/original_untouched/415/1039531.jpg'}, 'summary': '<p>Should auld acquaintance be forgot and days of auld lang syne?</p>', '_links': {'self': {'href': 'https://api.tvmaze.com/episodes/2326657'}, 'show': {'href': 'https://api.tvmaze.com/shows/1371'}}}, {'id': 2326658, 'url': 'https://www.tvmaze.com/episodes/2326658/westworld-4x05-zhuangzi', 'name': 'Zhuangzi', 'season': 4, 'number': 5, 'type': 'regular', 'airdate': '2022-07-24', 'airtime': '21:00', 'airstamp': '2022-07-25T01:00:00+00:00', 'runtime': 60, 'rating': {'average': 7.8}, 'image': {'medium': 'https://static.tvmaze.com/uploads/images/medium_landscape/416/1042460.jpg', 'original': 'https://static.tvmaze.com/uploads/images/original_untouched/416/1042460.jpg'}, 'summary': '<p>God is bored.</p>', '_links': {'self': {'href': 'https://api.tvmaze.com/episodes/2326658'}, 'show': {'href': 'https://api.tvmaze.com/shows/1371'}}}, {'id': 2326659, 'url': 'https://www.tvmaze.com/episodes/2326659/westworld-4x06-fidelity', 'name': 'Fidelity', 'season': 4, 'number': 6, 'type': 'regular', 'airdate': '2022-07-31', 'airtime': '21:00', 'airstamp': '2022-08-01T01:00:00+00:00', 'runtime': 60, 'rating': {'average': 7.5}, 'image': {'medium': 'https://static.tvmaze.com/uploads/images/medium_landscape/417/1044302.jpg', 'original': 'https://static.tvmaze.com/uploads/images/original_untouched/417/1044302.jpg'}, 'summary': '<p>To thine own selves be true.</p>', '_links': {'self': {'href': 'https://api.tvmaze.com/episodes/2326659'}, 'show': {'href': 'https://api.tvmaze.com/shows/1371'}}}, {'id': 2326660, 'url': 'https://www.tvmaze.com/episodes/2326660/westworld-4x07-metanoia', 'name': 'Metanoia', 'season': 4, 'number': 7, 'type': 'regular', 'airdate': '2022-08-07', 'airtime': '21:00', 'airstamp': '2022-08-08T01:00:00+00:00', 'runtime': 60, 'rating': {'average': 7.7}, 'image': {'medium': 'https://static.tvmaze.com/uploads/images/medium_landscape/418/1045645.jpg', 'original': 'https://static.tvmaze.com/uploads/images/original_untouched/418/1045645.jpg'}, 'summary': '<p>You want to have a drink at a time like this?</p>', '_links': {'self': {'href': 'https://api.tvmaze.com/episodes/2326660'}, 'show': {'href': 'https://api.tvmaze.com/shows/1371'}}}, {'id': 2326661, 'url': 'https://www.tvmaze.com/episodes/2326661/westworld-4x08-que-sera-sera', 'name': 'Que Será, Será', 'season': 4, 'number': 8, 'type': 'regular', 'airdate': '2022-08-14', 'airtime': '21:00', 'airstamp': '2022-08-15T01:00:00+00:00', 'runtime': 60, 'rating': {'average': 7.5}, 'image': {'medium': 'https://static.tvmaze.com/uploads/images/medium_landscape/418/1046925.jpg', 'original': 'https://static.tvmaze.com/uploads/images/original_untouched/418/1046925.jpg'}, 'summary': \"<p>Like what I've done with the place? (I just cranked it to expert level.)</p>\", '_links': {'self': {'href': 'https://api.tvmaze.com/episodes/2326661'}, 'show': {'href': 'https://api.tvmaze.com/shows/1371'}}}]}}\n"
     ]
    }
   ],
   "source": [
    "\n",
    "  \n",
    "# import json\n",
    "import json\n",
    "# store the URL in url as \n",
    "# parameter for urlopen\n",
    "url = \"http://api.tvmaze.com/singlesearch/shows?q=westworld&embed=episodes\"\n",
    "  \n",
    "# store the response of URL\n",
    "response = urlopen(url)\n",
    "  \n",
    "# storing the JSON response \n",
    "# from url in data\n",
    "data_json = json.loads(response.read())\n",
    "  \n",
    "# print the json response\n",
    "print(data_json)\n"
   ]
  },
  {
   "cell_type": "code",
   "execution_count": 3,
   "id": "2557ad1f",
   "metadata": {},
   "outputs": [
    {
     "ename": "KeyError",
     "evalue": "0",
     "output_type": "error",
     "traceback": [
      "\u001b[1;31m---------------------------------------------------------------------------\u001b[0m",
      "\u001b[1;31mKeyError\u001b[0m                                  Traceback (most recent call last)",
      "Cell \u001b[1;32mIn[3], line 1\u001b[0m\n\u001b[1;32m----> 1\u001b[0m \u001b[43mdata_json\u001b[49m\u001b[43m[\u001b[49m\u001b[38;5;241;43m0\u001b[39;49m\u001b[43m]\u001b[49m\n",
      "\u001b[1;31mKeyError\u001b[0m: 0"
     ]
    }
   ],
   "source": []
  },
  {
   "cell_type": "code",
   "execution_count": 4,
   "id": "b1e93b7e",
   "metadata": {},
   "outputs": [
    {
     "data": {
      "text/html": [
       "<div>\n",
       "<style scoped>\n",
       "    .dataframe tbody tr th:only-of-type {\n",
       "        vertical-align: middle;\n",
       "    }\n",
       "\n",
       "    .dataframe tbody tr th {\n",
       "        vertical-align: top;\n",
       "    }\n",
       "\n",
       "    .dataframe thead th {\n",
       "        text-align: right;\n",
       "    }\n",
       "</style>\n",
       "<table border=\"1\" class=\"dataframe\">\n",
       "  <thead>\n",
       "    <tr style=\"text-align: right;\">\n",
       "      <th></th>\n",
       "      <th>id</th>\n",
       "      <th>url</th>\n",
       "      <th>name</th>\n",
       "      <th>type</th>\n",
       "      <th>language</th>\n",
       "      <th>genres</th>\n",
       "      <th>status</th>\n",
       "      <th>runtime</th>\n",
       "      <th>averageRuntime</th>\n",
       "      <th>premiered</th>\n",
       "      <th>...</th>\n",
       "      <th>network.country.timezone</th>\n",
       "      <th>network.officialSite</th>\n",
       "      <th>externals.tvrage</th>\n",
       "      <th>externals.thetvdb</th>\n",
       "      <th>externals.imdb</th>\n",
       "      <th>image.medium</th>\n",
       "      <th>image.original</th>\n",
       "      <th>_links.self.href</th>\n",
       "      <th>_links.previousepisode.href</th>\n",
       "      <th>_embedded.episodes</th>\n",
       "    </tr>\n",
       "  </thead>\n",
       "  <tbody>\n",
       "    <tr>\n",
       "      <th>0</th>\n",
       "      <td>1371</td>\n",
       "      <td>https://www.tvmaze.com/shows/1371/westworld</td>\n",
       "      <td>Westworld</td>\n",
       "      <td>Scripted</td>\n",
       "      <td>English</td>\n",
       "      <td>[Drama, Science-Fiction, Western]</td>\n",
       "      <td>Ended</td>\n",
       "      <td>60</td>\n",
       "      <td>63</td>\n",
       "      <td>2016-10-02</td>\n",
       "      <td>...</td>\n",
       "      <td>America/New_York</td>\n",
       "      <td>https://www.hbo.com/</td>\n",
       "      <td>37537</td>\n",
       "      <td>296762</td>\n",
       "      <td>tt0475784</td>\n",
       "      <td>https://static.tvmaze.com/uploads/images/mediu...</td>\n",
       "      <td>https://static.tvmaze.com/uploads/images/origi...</td>\n",
       "      <td>https://api.tvmaze.com/shows/1371</td>\n",
       "      <td>https://api.tvmaze.com/episodes/2326661</td>\n",
       "      <td>[{'id': 869671, 'url': 'https://www.tvmaze.com...</td>\n",
       "    </tr>\n",
       "  </tbody>\n",
       "</table>\n",
       "<p>1 rows × 34 columns</p>\n",
       "</div>"
      ],
      "text/plain": [
       "     id                                          url       name      type  \\\n",
       "0  1371  https://www.tvmaze.com/shows/1371/westworld  Westworld  Scripted   \n",
       "\n",
       "  language                             genres status  runtime  averageRuntime  \\\n",
       "0  English  [Drama, Science-Fiction, Western]  Ended       60              63   \n",
       "\n",
       "    premiered  ... network.country.timezone  network.officialSite  \\\n",
       "0  2016-10-02  ...         America/New_York  https://www.hbo.com/   \n",
       "\n",
       "   externals.tvrage externals.thetvdb externals.imdb  \\\n",
       "0             37537            296762      tt0475784   \n",
       "\n",
       "                                        image.medium  \\\n",
       "0  https://static.tvmaze.com/uploads/images/mediu...   \n",
       "\n",
       "                                      image.original  \\\n",
       "0  https://static.tvmaze.com/uploads/images/origi...   \n",
       "\n",
       "                    _links.self.href              _links.previousepisode.href  \\\n",
       "0  https://api.tvmaze.com/shows/1371  https://api.tvmaze.com/episodes/2326661   \n",
       "\n",
       "                                  _embedded.episodes  \n",
       "0  [{'id': 869671, 'url': 'https://www.tvmaze.com...  \n",
       "\n",
       "[1 rows x 34 columns]"
      ]
     },
     "execution_count": 4,
     "metadata": {},
     "output_type": "execute_result"
    }
   ],
   "source": []
  },
  {
   "cell_type": "code",
   "execution_count": 6,
   "id": "08bb35af",
   "metadata": {},
   "outputs": [
    {
     "name": "stdout",
     "output_type": "stream",
     "text": [
      "<class 'pandas.core.frame.DataFrame'>\n",
      "RangeIndex: 1 entries, 0 to 0\n",
      "Data columns (total 34 columns):\n",
      " #   Column                       Non-Null Count  Dtype  \n",
      "---  ------                       --------------  -----  \n",
      " 0   id                           1 non-null      int64  \n",
      " 1   url                          1 non-null      object \n",
      " 2   name                         1 non-null      object \n",
      " 3   type                         1 non-null      object \n",
      " 4   language                     1 non-null      object \n",
      " 5   genres                       1 non-null      object \n",
      " 6   status                       1 non-null      object \n",
      " 7   runtime                      1 non-null      int64  \n",
      " 8   averageRuntime               1 non-null      int64  \n",
      " 9   premiered                    1 non-null      object \n",
      " 10  ended                        1 non-null      object \n",
      " 11  officialSite                 1 non-null      object \n",
      " 12  weight                       1 non-null      int64  \n",
      " 13  webChannel                   0 non-null      object \n",
      " 14  dvdCountry                   0 non-null      object \n",
      " 15  summary                      1 non-null      object \n",
      " 16  updated                      1 non-null      int64  \n",
      " 17  schedule.time                1 non-null      object \n",
      " 18  schedule.days                1 non-null      object \n",
      " 19  rating.average               1 non-null      float64\n",
      " 20  network.id                   1 non-null      int64  \n",
      " 21  network.name                 1 non-null      object \n",
      " 22  network.country.name         1 non-null      object \n",
      " 23  network.country.code         1 non-null      object \n",
      " 24  network.country.timezone     1 non-null      object \n",
      " 25  network.officialSite         1 non-null      object \n",
      " 26  externals.tvrage             1 non-null      int64  \n",
      " 27  externals.thetvdb            1 non-null      int64  \n",
      " 28  externals.imdb               1 non-null      object \n",
      " 29  image.medium                 1 non-null      object \n",
      " 30  image.original               1 non-null      object \n",
      " 31  _links.self.href             1 non-null      object \n",
      " 32  _links.previousepisode.href  1 non-null      object \n",
      " 33  _embedded.episodes           1 non-null      object \n",
      "dtypes: float64(1), int64(8), object(25)\n",
      "memory usage: 400.0+ bytes\n"
     ]
    }
   ],
   "source": []
  },
  {
   "cell_type": "code",
   "execution_count": null,
   "id": "d5bab119",
   "metadata": {},
   "outputs": [],
   "source": []
  }
 ],
 "metadata": {
  "kernelspec": {
   "display_name": "Python 3 (ipykernel)",
   "language": "python",
   "name": "python3"
  },
  "language_info": {
   "codemirror_mode": {
    "name": "ipython",
    "version": 3
   },
   "file_extension": ".py",
   "mimetype": "text/x-python",
   "name": "python",
   "nbconvert_exporter": "python",
   "pygments_lexer": "ipython3",
   "version": "3.9.16"
  }
 },
 "nbformat": 4,
 "nbformat_minor": 5
}
